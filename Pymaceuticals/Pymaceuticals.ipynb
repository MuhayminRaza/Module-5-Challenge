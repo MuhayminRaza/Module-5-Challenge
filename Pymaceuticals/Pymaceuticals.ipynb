{
 "cells": [
  {
   "cell_type": "code",
   "execution_count": null,
   "metadata": {},
   "outputs": [],
   "source": [
    "# Dependencies and Setup\n",
    "import os\n",
    "import matplotlib.pyplot as plt\n",
    "import pandas as pd\n",
    "import scipy.stats as st\n",
    "import numpy as np\n",
    "from scipy.stats import linregress\n",
    "\n",
    "# Study data files\n",
    "mouse_metadata_path = os.path.expanduser(\"~/Desktop/Challenge/Mouse_metadata.csv\")\n",
    "study_results_path = os.path.expanduser(\"~/Desktop/Challenge/Study_results.csv\")\n",
    "\n",
    "# Read mouse data \n",
    "mouse_metadata = pd.read_csv(mouse_metadata_path)\n",
    "mouse_metadata.head()\n",
    "\n",
    "#Read the study results\n",
    "study_results = pd.read_csv(study_results_path)\n",
    "study_results.head()"
   ]
  },
  {
   "cell_type": "code",
   "execution_count": null,
   "metadata": {},
   "outputs": [],
   "source": [
    "# Combine the above data into a single dataset\n",
    "combined_df = pd.merge(mouse_metadata, study_results, how='outer', on=\"Mouse ID\")\n",
    "# Display the data table for preview\n",
    "combined_df.head()\n",
    "\n",
    "# Checking the number of mice.\n",
    "num_mice = combined_df[\"Mouse ID\"].nunique()\n",
    "num_mice"
   ]
  },
  {
   "cell_type": "code",
   "execution_count": null,
   "metadata": {},
   "outputs": [],
   "source": [
    "# Getting the duplicate mice by ID number that shows up for Mouse ID and Timepoint.\n",
    "dup_mice_ID = combined_df.loc[combined_df.duplicated(subset=['Mouse ID', 'Timepoint']),'Mouse ID'].unique()\n",
    "dup_mice_ID"
   ]
  }
 ],
 "metadata": {
  "language_info": {
   "name": "python"
  },
  "orig_nbformat": 4
 },
 "nbformat": 4,
 "nbformat_minor": 2
}
